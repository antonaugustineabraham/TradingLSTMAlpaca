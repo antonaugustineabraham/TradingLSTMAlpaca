{
  "nbformat": 4,
  "nbformat_minor": 0,
  "metadata": {
    "colab": {
      "provenance": [],
      "collapsed_sections": []
    },
    "kernelspec": {
      "name": "python3",
      "display_name": "Python 3"
    },
    "language_info": {
      "name": "python"
    }
  },
  "cells": [
    {
      "cell_type": "markdown",
      "source": [
        "Code to extract historical data for stocks and to save in Google Drive location"
      ],
      "metadata": {
        "id": "jMFnK-zIwAw-"
      }
    },
    {
      "cell_type": "code",
      "execution_count": null,
      "metadata": {
        "colab": {
          "base_uri": "https://localhost:8080/"
        },
        "id": "prQp7rAQqqRv",
        "outputId": "b6462c76-6e22-4a88-ba10-8aa89743dd9f"
      },
      "outputs": [
        {
          "output_type": "stream",
          "name": "stdout",
          "text": [
            "Mounted at /drive\n"
          ]
        }
      ],
      "source": [
        "!pip install yfinance\n",
        "import pandas as pd\n",
        "import numpy as np\n",
        "import yfinance as yf\n",
        "from google.colab import  drive\n",
        "drive.mount('/drive')\n",
        "symbolStock = [\"AAPL\", \"MSFT\", \"GOOGL\",\"AMD\", \"NVDA\" ]\n",
        "               \n",
        "for stock in symbolStock:\n",
        "    stockData = yf.download(stock, \n",
        "                      start='2000-01-01', \n",
        "                      end='2022-08-18', \n",
        "                      progress=False,)\n",
        "    filename = \"/drive/My Drive/Colab Notebooks/%sDataHist.csv\" % stock\n",
        "    #df.to_csv('/drive/My Drive/Colab Notebooks/name_csv_file.csv')\n",
        "    stockData.to_csv(filename)\n"
      ]
    }
  ]
}