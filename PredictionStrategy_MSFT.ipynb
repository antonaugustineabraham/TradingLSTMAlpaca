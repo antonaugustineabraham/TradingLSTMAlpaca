{
  "cells": [
    {
      "cell_type": "markdown",
      "source": [
        "Loading model and packages"
      ],
      "metadata": {
        "id": "ZmEpfZ2S1Xip"
      }
    },
    {
      "cell_type": "code",
      "execution_count": null,
      "metadata": {
        "colab": {
          "base_uri": "https://localhost:8080/"
        },
        "id": "Ha9rTMe0hZ8_",
        "outputId": "4e075169-97df-43c0-e9db-0a5e61c8127b"
      },
      "outputs": [
        {
          "name": "stdout",
          "output_type": "stream",
          "text": [
            "Mounted at /drive\n"
          ]
        }
      ],
      "source": [
        "!pip install yfinance\n",
        "import yfinance as yf\n",
        "from keras.models import load_model\n",
        "from google.colab import  drive\n",
        "drive.mount('/drive')\n",
        "stock = \"MSFT\"\n",
        "filename = \"/drive/My Drive/Colab Notebooks/%sModel\" % stock\n",
        "loadModel = load_model(filename)"
      ]
    },
    {
      "cell_type": "markdown",
      "source": [
        "Extracting data for forecasts of the current trading day"
      ],
      "metadata": {
        "id": "abxgl5W01erp"
      }
    },
    {
      "cell_type": "code",
      "execution_count": null,
      "metadata": {
        "id": "OdJk3HeeiHwr"
      },
      "outputs": [],
      "source": [
        "import numpy as np\n",
        "lastDate = \"2022-08-18\" \n",
        "numStepsDays = 10\n",
        "newStockData = yf.download(stock,start='2022-07-03',progress=False,)\n",
        "newStockData.reset_index(inplace=True)\n",
        "lastDateIndx = np.where(newStockData.Date == lastDate)[0][0]\n",
        "newStockData = newStockData[lastDateIndx-numStepsDays:]\n",
        "newStockData = newStockData.reset_index(drop=True)"
      ]
    },
    {
      "cell_type": "code",
      "execution_count": null,
      "metadata": {
        "colab": {
          "base_uri": "https://localhost:8080/",
          "height": 206
        },
        "id": "JIqthE0Ck3VD",
        "outputId": "f2f45620-4822-449e-ea45-4796d98ffaf5"
      },
      "outputs": [
        {
          "data": {
            "text/html": [
              "\n",
              "  <div id=\"df-912a30c1-97ce-4ca9-b9db-6c4dcc91bac9\">\n",
              "    <div class=\"colab-df-container\">\n",
              "      <div>\n",
              "<style scoped>\n",
              "    .dataframe tbody tr th:only-of-type {\n",
              "        vertical-align: middle;\n",
              "    }\n",
              "\n",
              "    .dataframe tbody tr th {\n",
              "        vertical-align: top;\n",
              "    }\n",
              "\n",
              "    .dataframe thead th {\n",
              "        text-align: right;\n",
              "    }\n",
              "</style>\n",
              "<table border=\"1\" class=\"dataframe\">\n",
              "  <thead>\n",
              "    <tr style=\"text-align: right;\">\n",
              "      <th></th>\n",
              "      <th>Date</th>\n",
              "      <th>Open</th>\n",
              "      <th>High</th>\n",
              "      <th>Low</th>\n",
              "      <th>Close</th>\n",
              "      <th>Adj Close</th>\n",
              "      <th>Volume</th>\n",
              "    </tr>\n",
              "  </thead>\n",
              "  <tbody>\n",
              "    <tr>\n",
              "      <th>28</th>\n",
              "      <td>2022-09-14</td>\n",
              "      <td>253.529999</td>\n",
              "      <td>254.229996</td>\n",
              "      <td>249.860001</td>\n",
              "      <td>252.220001</td>\n",
              "      <td>252.220001</td>\n",
              "      <td>23913000</td>\n",
              "    </tr>\n",
              "    <tr>\n",
              "      <th>29</th>\n",
              "      <td>2022-09-15</td>\n",
              "      <td>249.770004</td>\n",
              "      <td>251.399994</td>\n",
              "      <td>244.020004</td>\n",
              "      <td>245.380005</td>\n",
              "      <td>245.380005</td>\n",
              "      <td>31530900</td>\n",
              "    </tr>\n",
              "    <tr>\n",
              "      <th>30</th>\n",
              "      <td>2022-09-16</td>\n",
              "      <td>244.259995</td>\n",
              "      <td>245.300003</td>\n",
              "      <td>242.059998</td>\n",
              "      <td>244.740005</td>\n",
              "      <td>244.740005</td>\n",
              "      <td>39775100</td>\n",
              "    </tr>\n",
              "    <tr>\n",
              "      <th>31</th>\n",
              "      <td>2022-09-19</td>\n",
              "      <td>242.470001</td>\n",
              "      <td>245.139999</td>\n",
              "      <td>240.850006</td>\n",
              "      <td>244.520004</td>\n",
              "      <td>244.520004</td>\n",
              "      <td>26826900</td>\n",
              "    </tr>\n",
              "    <tr>\n",
              "      <th>32</th>\n",
              "      <td>2022-09-20</td>\n",
              "      <td>242.070007</td>\n",
              "      <td>243.509995</td>\n",
              "      <td>239.639999</td>\n",
              "      <td>242.449997</td>\n",
              "      <td>242.449997</td>\n",
              "      <td>26606500</td>\n",
              "    </tr>\n",
              "  </tbody>\n",
              "</table>\n",
              "</div>\n",
              "      <button class=\"colab-df-convert\" onclick=\"convertToInteractive('df-912a30c1-97ce-4ca9-b9db-6c4dcc91bac9')\"\n",
              "              title=\"Convert this dataframe to an interactive table.\"\n",
              "              style=\"display:none;\">\n",
              "        \n",
              "  <svg xmlns=\"http://www.w3.org/2000/svg\" height=\"24px\"viewBox=\"0 0 24 24\"\n",
              "       width=\"24px\">\n",
              "    <path d=\"M0 0h24v24H0V0z\" fill=\"none\"/>\n",
              "    <path d=\"M18.56 5.44l.94 2.06.94-2.06 2.06-.94-2.06-.94-.94-2.06-.94 2.06-2.06.94zm-11 1L8.5 8.5l.94-2.06 2.06-.94-2.06-.94L8.5 2.5l-.94 2.06-2.06.94zm10 10l.94 2.06.94-2.06 2.06-.94-2.06-.94-.94-2.06-.94 2.06-2.06.94z\"/><path d=\"M17.41 7.96l-1.37-1.37c-.4-.4-.92-.59-1.43-.59-.52 0-1.04.2-1.43.59L10.3 9.45l-7.72 7.72c-.78.78-.78 2.05 0 2.83L4 21.41c.39.39.9.59 1.41.59.51 0 1.02-.2 1.41-.59l7.78-7.78 2.81-2.81c.8-.78.8-2.07 0-2.86zM5.41 20L4 18.59l7.72-7.72 1.47 1.35L5.41 20z\"/>\n",
              "  </svg>\n",
              "      </button>\n",
              "      \n",
              "  <style>\n",
              "    .colab-df-container {\n",
              "      display:flex;\n",
              "      flex-wrap:wrap;\n",
              "      gap: 12px;\n",
              "    }\n",
              "\n",
              "    .colab-df-convert {\n",
              "      background-color: #E8F0FE;\n",
              "      border: none;\n",
              "      border-radius: 50%;\n",
              "      cursor: pointer;\n",
              "      display: none;\n",
              "      fill: #1967D2;\n",
              "      height: 32px;\n",
              "      padding: 0 0 0 0;\n",
              "      width: 32px;\n",
              "    }\n",
              "\n",
              "    .colab-df-convert:hover {\n",
              "      background-color: #E2EBFA;\n",
              "      box-shadow: 0px 1px 2px rgba(60, 64, 67, 0.3), 0px 1px 3px 1px rgba(60, 64, 67, 0.15);\n",
              "      fill: #174EA6;\n",
              "    }\n",
              "\n",
              "    [theme=dark] .colab-df-convert {\n",
              "      background-color: #3B4455;\n",
              "      fill: #D2E3FC;\n",
              "    }\n",
              "\n",
              "    [theme=dark] .colab-df-convert:hover {\n",
              "      background-color: #434B5C;\n",
              "      box-shadow: 0px 1px 3px 1px rgba(0, 0, 0, 0.15);\n",
              "      filter: drop-shadow(0px 1px 2px rgba(0, 0, 0, 0.3));\n",
              "      fill: #FFFFFF;\n",
              "    }\n",
              "  </style>\n",
              "\n",
              "      <script>\n",
              "        const buttonEl =\n",
              "          document.querySelector('#df-912a30c1-97ce-4ca9-b9db-6c4dcc91bac9 button.colab-df-convert');\n",
              "        buttonEl.style.display =\n",
              "          google.colab.kernel.accessAllowed ? 'block' : 'none';\n",
              "\n",
              "        async function convertToInteractive(key) {\n",
              "          const element = document.querySelector('#df-912a30c1-97ce-4ca9-b9db-6c4dcc91bac9');\n",
              "          const dataTable =\n",
              "            await google.colab.kernel.invokeFunction('convertToInteractive',\n",
              "                                                     [key], {});\n",
              "          if (!dataTable) return;\n",
              "\n",
              "          const docLinkHtml = 'Like what you see? Visit the ' +\n",
              "            '<a target=\"_blank\" href=https://colab.research.google.com/notebooks/data_table.ipynb>data table notebook</a>'\n",
              "            + ' to learn more about interactive tables.';\n",
              "          element.innerHTML = '';\n",
              "          dataTable['output_type'] = 'display_data';\n",
              "          await google.colab.output.renderOutput(dataTable, element);\n",
              "          const docLink = document.createElement('div');\n",
              "          docLink.innerHTML = docLinkHtml;\n",
              "          element.appendChild(docLink);\n",
              "        }\n",
              "      </script>\n",
              "    </div>\n",
              "  </div>\n",
              "  "
            ],
            "text/plain": [
              "         Date        Open        High         Low       Close   Adj Close  \\\n",
              "28 2022-09-14  253.529999  254.229996  249.860001  252.220001  252.220001   \n",
              "29 2022-09-15  249.770004  251.399994  244.020004  245.380005  245.380005   \n",
              "30 2022-09-16  244.259995  245.300003  242.059998  244.740005  244.740005   \n",
              "31 2022-09-19  242.470001  245.139999  240.850006  244.520004  244.520004   \n",
              "32 2022-09-20  242.070007  243.509995  239.639999  242.449997  242.449997   \n",
              "\n",
              "      Volume  \n",
              "28  23913000  \n",
              "29  31530900  \n",
              "30  39775100  \n",
              "31  26826900  \n",
              "32  26606500  "
            ]
          },
          "execution_count": 3,
          "metadata": {},
          "output_type": "execute_result"
        }
      ],
      "source": [
        "newStockData.tail()"
      ]
    },
    {
      "cell_type": "code",
      "execution_count": null,
      "metadata": {
        "id": "Y0sQd52jV5LO"
      },
      "outputs": [],
      "source": [
        "#newStockData =newStockData.iloc[:len(newStockData)-1]"
      ]
    },
    {
      "cell_type": "markdown",
      "source": [
        "Data Preparation for current day forecasts"
      ],
      "metadata": {
        "id": "al5oyKZS1zwX"
      }
    },
    {
      "cell_type": "code",
      "execution_count": null,
      "metadata": {
        "id": "YSn-KnWcjMe-"
      },
      "outputs": [],
      "source": [
        "#features = [\"Close\", \"CloseChange\", \"VolChange\",\"PriceChange\", \"Open\", \"High\", \"Low\", \"Adj Close\", \"Volume\"]\n",
        "features = [\"Adj Close\",\"Close\",\"Open\", \"High\", \"Low\"]#, \"Volume\"]\n",
        "target = [\"Adj Close\"]\n",
        "\n",
        "# create a differenced dataset\n",
        "def differenceData(data, features, interval=1):\n",
        "  diffData = data.copy()\n",
        "  for var in features :\n",
        "    diff = [np.nan]\n",
        "    for i in range(interval, len(data)):\n",
        "      value = diffData[var][i] - diffData[var][i - interval]\n",
        "      diff.append(value)\n",
        "    diffData[var] = diff\n",
        "  return diffData\n",
        "\n",
        "# invert differenced forecast\n",
        "def inverseDifference(lastObs, value):\n",
        "\treturn value + lastObs\n",
        "\n",
        "def dataConversionForecast(data, numSteps):\n",
        "    X= list()\n",
        "    for i in range(len(data)):\n",
        "        endIndx = i + numSteps\n",
        "        if endIndx > len(data):\n",
        "            break\n",
        "        dataX = data[i:endIndx]\n",
        "        X.append(dataX)\n",
        "    return np.asarray(X).astype(np.float32)\n"
      ]
    },
    {
      "cell_type": "code",
      "execution_count": null,
      "metadata": {
        "colab": {
          "base_uri": "https://localhost:8080/"
        },
        "id": "J7M7fjKtjpxt",
        "outputId": "f5e5ac73-ad60-4d35-ed83-99e708cec4e4"
      },
      "outputs": [
        {
          "name": "stdout",
          "output_type": "stream",
          "text": [
            "(23, 10, 5)\n"
          ]
        }
      ],
      "source": [
        "newDiffStockData = differenceData(newStockData,features)\n",
        "newDiffStockData = newDiffStockData[1:].reset_index(drop = True)\n",
        "newStockData = newStockData[1:].reset_index(drop = True)\n",
        "\n",
        "from sklearn.preprocessing import StandardScaler\n",
        "# train the normalization\n",
        "scalerNew = StandardScaler()\n",
        "scalerNew = scalerNew.fit(newDiffStockData[features])\n",
        "# normalize the dataset and print\n",
        "stdTestDataNew = scalerNew.transform(newDiffStockData[features])\n",
        "\n",
        "lastDateIndxNew = np.where(newStockData.Date == lastDate)[0][0]\n",
        "dataXTestNew = dataConversionForecast(stdTestDataNew, numStepsDays)\n",
        "print(dataXTestNew.shape)\n",
        "forecastNew = loadModel.predict(dataXTestNew)\n",
        "forecastDummyNew = np.repeat(forecastNew,len(features), axis = -1)\n",
        "predForecastsNew = scalerNew.inverse_transform(forecastDummyNew)[:,0] \n",
        "\n",
        "lastTargetTrained = newStockData[target].values[lastDateIndxNew][0]\n",
        "predInvertedNew = list()\n",
        "actualTargetsNew = newStockData[target][numStepsDays:].values\n",
        "predInvertedNew.append(inverseDifference(lastTargetTrained, predForecastsNew[0]))\n",
        "for i in range(1, len(predForecastsNew)):\n",
        "  newPred = inverseDifference(actualTargetsNew[i-1], predForecastsNew[i])\n",
        "  predInvertedNew.append(newPred[0])"
      ]
    },
    {
      "cell_type": "markdown",
      "source": [
        "Storing the predicted forecast price for the current day in a variable"
      ],
      "metadata": {
        "id": "bNTAVErv1-AD"
      }
    },
    {
      "cell_type": "code",
      "execution_count": null,
      "metadata": {
        "id": "y0YJJMd_kPdy"
      },
      "outputs": [],
      "source": [
        "nextDaysTarget = predInvertedNew[len(predInvertedNew)-1]"
      ]
    },
    {
      "cell_type": "code",
      "execution_count": null,
      "metadata": {
        "colab": {
          "base_uri": "https://localhost:8080/"
        },
        "id": "6g2VUXerUvki",
        "outputId": "ba1bc839-7af3-4cb2-e2c9-5b3bf0800e84"
      },
      "outputs": [
        {
          "data": {
            "text/plain": [
              "241.66626346111298"
            ]
          },
          "execution_count": 7,
          "metadata": {},
          "output_type": "execute_result"
        }
      ],
      "source": [
        "nextDaysTarget"
      ]
    },
    {
      "cell_type": "code",
      "execution_count": null,
      "metadata": {
        "id": "__imHS7rk1vv"
      },
      "outputs": [],
      "source": [
        "!pip install alpaca-trade-api"
      ]
    },
    {
      "cell_type": "markdown",
      "source": [
        "Instantiating Connection with Alpaca API "
      ],
      "metadata": {
        "id": "BOyTPtcL2Thc"
      }
    },
    {
      "cell_type": "code",
      "execution_count": null,
      "metadata": {
        "id": "EVJ5zhDYk3HX"
      },
      "outputs": [],
      "source": [
        "import alpaca_trade_api as tradeapi\n",
        "\n",
        "# API Info for fetching data, portfolio, etc. from Alpaca\n",
        "BASE_URL = \"https://paper-api.alpaca.markets\"\n",
        "ALPACA_API_KEY = \"PKKWFGQG2NUBWBCBY517\"\n",
        "ALPACA_SECRET_KEY = \"vx0PuUdocSGeKaTej7lWhRecKfO71OAEKGeDJX3l\"\n",
        "\n",
        "# Instantiate REST API Connection\n",
        "api = tradeapi.REST(key_id=ALPACA_API_KEY, secret_key=ALPACA_SECRET_KEY, \n",
        "                    base_url=BASE_URL, api_version='v2')"
      ]
    },
    {
      "cell_type": "code",
      "execution_count": null,
      "metadata": {
        "colab": {
          "base_uri": "https://localhost:8080/"
        },
        "id": "6vkF8eHik3J5",
        "outputId": "3ef63f30-a869-4ead-da5f-7f099058b366"
      },
      "outputs": [
        {
          "output_type": "stream",
          "name": "stdout",
          "text": [
            "807d1a0b-e018-446a-9e69-f5147c7e0b16 100178.44 ACTIVE\n"
          ]
        }
      ],
      "source": [
        "# Fetch Account\n",
        "account = api.get_account()\n",
        "\n",
        "# Print Account Details\n",
        "print(account.id, account.equity, account.status)"
      ]
    },
    {
      "cell_type": "code",
      "execution_count": null,
      "metadata": {
        "id": "D5uUdlVolRVA"
      },
      "outputs": [],
      "source": [
        "!pip install ta \n",
        "from ta.trend import ADXIndicator"
      ]
    },
    {
      "cell_type": "markdown",
      "source": [
        "Functions for Making and Deriving Trade Decisions"
      ],
      "metadata": {
        "id": "qYX2cV-U2zYf"
      }
    },
    {
      "cell_type": "code",
      "execution_count": null,
      "metadata": {
        "id": "kVHoW4U6k3Mg"
      },
      "outputs": [],
      "source": [
        "def getClosingData(stock, lmt = 5000):\n",
        "    # Returns a an numpy array of the closing prices of the past 5 minutes\n",
        "    data = api.get_bars(symbol=stock,timeframe=tradeapi.TimeFrame.Minute, limit=lmt) \n",
        "    #data = newStockData\n",
        "    closePrices5 = []\n",
        "    for i in range(data.df.shape[0]-5,data.df.shape[0]):\n",
        "        closePrices5.append(data[i].c)\n",
        "    #for i in range(data.shape[0]-5,data.shape[0]):\n",
        "    #    closePrices5.append(data[\"Close\"][i])\n",
        "    \n",
        "    closePrices5 = np.array(closePrices5, dtype=np.float64)\n",
        "    lastClosePrice = closePrices5[len(closePrices5)-1]\n",
        "    closeMA5 = np.mean(closePrices5)\n",
        "\n",
        "    data = data.df\n",
        "    #from ta.trend import ADXIndicator\n",
        "    ADX = ADXIndicator(data['high'],data['low'],data['close'],7)\n",
        "    #ADX = ADXIndicator(data['High'],data['Low'],data['Close'],7)\n",
        "    ADXValue = ADX.adx()\n",
        "    posDI = ADX.adx_pos()\n",
        "    negDI = ADX.adx_neg()\n",
        "    #posLast = posDI[len(posDI)-1]\n",
        "    #negLast = negDI[len(negDI)-1]\n",
        "    #adxLast = ADXValue[len(ADXValue)-1]\n",
        "    #if posDI[len(posDI)-1] > negDI[len(negDI)-1] and ADXValue[len(ADXValue)-1] > 25:\n",
        "\n",
        "    return lastClosePrice, closeMA5, ADXValue, posDI, negDI\n",
        "\n",
        "\n",
        "def buyStock(amount, stock): # Returns nothing, makes call to buy stock\n",
        "    api.submit_order(symbol=stock, qty=amount, side='buy', \n",
        "                     type='market', time_in_force='day')\n",
        "    print(\"Buying Stock\")\n",
        "\n",
        "def sellStock(amount, stock): # Returns nothing, makes call to sell stock\n",
        "    api.submit_order(symbol=stock, qty=amount, side='sell', \n",
        "                     type='market', time_in_force='day')\n",
        "    print(\"Selling Stock\")\n",
        "\n",
        "def buyTrailStop(amount, stock, perc): # Returns nothing, makes call to buy stock\n",
        "    api.submit_order(symbol=stock, qty=amount, side='buy', \n",
        "                     type='market', time_in_force='day', trail_percent= perc)\n",
        "    print(\"Buying Trail Stock\")\n",
        "\n",
        "def sellTrailStop(amount, stock, perc): # Returns nothing, makes call to sell stock\n",
        "    api.submit_order(symbol=stock, qty=amount, side='sell', \n",
        "                     type='trailing_stop', time_in_force='day', trail_percent= perc)\n",
        "    print(\"Selling Trail Stock\")\n"
      ]
    },
    {
      "cell_type": "markdown",
      "source": [
        "Trading Strategy and Execution\n",
        "Starts its exit strategies 3000 seconds before scheduled close of day"
      ],
      "metadata": {
        "id": "7niaLtXb298A"
      }
    },
    {
      "cell_type": "code",
      "execution_count": null,
      "metadata": {
        "id": "MxSihJ9uLXg9"
      },
      "outputs": [],
      "source": [
        "import numpy as np\n",
        "import time \n",
        "execute = True\n",
        "stockHeld = False\n",
        "while execute:\n",
        "  stockClock = api.get_clock()\n",
        "  nextCloseTime = stockClock.next_close\n",
        "  if stockClock.is_open:\n",
        "    lastClosePrice, closeMA5, ADXValue, posDI, negDI = getClosingData(stock, lmt = 5000)\n",
        "    snapshot = api.get_snapshot(symbol=stock)\n",
        "    latestTradePrice = snapshot.latest_trade.p\n",
        "    previousLow = snapshot.prev_daily_bar.l\n",
        "    previousHigh = snapshot.prev_daily_bar.h\n",
        "    previousClose = snapshot.prev_daily_bar.c\n",
        "    lenData = len(ADXValue)\n",
        "            \n",
        "    if lastClosePrice<nextDaysTarget:\n",
        "      if (posDI[lenData-2] - negDI[lenData-2])<0 and (posDI[lenData-1] - negDI[lenData-1])>0:\n",
        "        print(\"Price < nextDaysTarget and trend -ve to +ve\",lastClosePrice) \n",
        "        buyStock(5,stock)\n",
        "      #elif posDI[lenData-1] - negDI[lenData-1] > 0:\n",
        "        #print(\"Price < nextDaysTarget and +ve trend\")\n",
        "        #buyStock(1,stock)\n",
        "    if lastClosePrice>nextDaysTarget:\n",
        "      if (posDI[lenData-2] - negDI[lenData-2])>0 and (posDI[lenData-1] - negDI[lenData-1])<0:\n",
        "        try:\n",
        "          sellStock(5,stock)\n",
        "          print(\"Price > nextDaysTarget and trend +ve to -ve\",lastClosePrice) \n",
        "        except:\n",
        "          continue\n",
        "    if ADXValue[lenData-1] > 25 and ADXValue[lenData-2]< 25 :\n",
        "      if posDI[lenData-1] > negDI[lenData-1]:\n",
        "        print(\"ADX Change : Buying\",lastClosePrice) \n",
        "        buyStock(3,stock)\n",
        "      elif posDI[lenData-1] < negDI[lenData-1]:\n",
        "        try:\n",
        "          sellStock(3,stock)\n",
        "          print(\"ADX Change : Selling\",lastClosePrice) \n",
        "        except:\n",
        "          continue\n",
        "\n",
        "\n",
        "    # Exit Strategy\n",
        "    timetoClose = stockClock.next_close-stockClock.timestamp\n",
        "    if timetoClose.seconds < 3000:\n",
        "      positions = api.list_positions()\n",
        "      for position in positions:\n",
        "        if position.symbol==stock:\n",
        "          currentPrice = np.float32(position.current_price)\n",
        "          avgEntPrize = np.float32(position.avg_entry_price)\n",
        "          margin = 1.001\n",
        "          print(currentPrice,avgEntPrize,avgEntPrize*margin,timetoClose.seconds)\n",
        "          qty = position.qty\n",
        "          if int(qty) > 0 :\n",
        "            if currentPrice>avgEntPrize*margin :\n",
        "              sellStock(qty, stock)\n",
        "              print(\"Closing all positions for a profit. Selling \",qty, \" units of \", stock)\n",
        "              execute = False\n",
        "              if timetoClose.seconds < 2500:\n",
        "                if currentPrice< avgEntPrize:\n",
        "                  sellStock(int(qty), stock)\n",
        "                  print(\"Closing all positions for a loss. Selling \",qty, \" units of \", stock)\n",
        "                  execute = False\n",
        "          if int(qty) <0 :\n",
        "            if currentPrice<avgEntPrize*margin :\n",
        "              buyStock(abs(int(qty)), stock)\n",
        "              print(\"Closing all positions. Buying \",abs(int(qty)), \" units of \", stock)\n",
        "              execute = False\n",
        "              if timetoClose.seconds < 2500:\n",
        "                if currentPrice > avgEntPrize:\n",
        "                  buyStock(abs(int(qty)), stock)\n",
        "                  print(\"Closing all positions for a loss. Buying \",qty, \" units of \", stock)\n",
        "                  execute = False\n",
        "\n",
        "\n",
        "          \n",
        "  time.sleep(60)"
      ]
    }
  ],
  "metadata": {
    "colab": {
      "collapsed_sections": [],
      "provenance": []
    },
    "kernelspec": {
      "display_name": "Python 3",
      "name": "python3"
    },
    "language_info": {
      "name": "python"
    }
  },
  "nbformat": 4,
  "nbformat_minor": 0
}